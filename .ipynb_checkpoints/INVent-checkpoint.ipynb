{
 "cells": [
  {
   "cell_type": "code",
   "execution_count": 77,
   "metadata": {},
   "outputs": [
    {
     "name": "stdout",
     "output_type": "stream",
     "text": [
      "The autoreload extension is already loaded. To reload it, use:\n",
      "  %reload_ext autoreload\n"
     ]
    }
   ],
   "source": [
    "import sys\n",
    "if '.' not in sys.path:\n",
    "    sys.path.append('.')\n",
    "\n",
    "from time import sleep\n",
    "import numpy as np\n",
    "import gym\n",
    "\n",
    "import gymEnvs\n",
    "from util import *\n",
    "%config IPCompleter.greedy=True\n",
    "%load_ext autoreload\n",
    "%autoreload 2"
   ]
  },
  {
   "cell_type": "code",
   "execution_count": 84,
   "metadata": {},
   "outputs": [],
   "source": [
    "env=simple()"
   ]
  },
  {
   "cell_type": "code",
   "execution_count": 66,
   "metadata": {},
   "outputs": [
    {
     "name": "stdout",
     "output_type": "stream",
     "text": [
      "Total iterations:2 Duration:0.0014314651489257812\n"
     ]
    }
   ],
   "source": [
    "theta=1e-2\n",
    "gamma=0.9\n",
    "sb_pol_pi, sb_pol_V, pol_deltas, polstable, mainLoopCounter, duration = sbpoliter(env,gamma,theta)"
   ]
  },
  {
   "cell_type": "code",
   "execution_count": 67,
   "metadata": {},
   "outputs": [
    {
     "data": {
      "text/plain": [
       "array([1, 2, 2, 4, 0], dtype=int8)"
      ]
     },
     "execution_count": 67,
     "metadata": {},
     "output_type": "execute_result"
    }
   ],
   "source": [
    "sb_pol_pi"
   ]
  },
  {
   "cell_type": "code",
   "execution_count": 68,
   "metadata": {},
   "outputs": [],
   "source": [
    "inv_map_actions = {v: k for k, v in env.actions.items()}\n",
    "inv_map_states = {v: k for k, v in env.states.items()}"
   ]
  },
  {
   "cell_type": "code",
   "execution_count": 69,
   "metadata": {},
   "outputs": [
    {
     "data": {
      "text/plain": [
       "[('leisure', 'quit'),\n",
       " ('class1', 'study'),\n",
       " ('class2', 'study'),\n",
       " ('class3', 'pub'),\n",
       " ('end', 'facebook')]"
      ]
     },
     "execution_count": 69,
     "metadata": {},
     "output_type": "execute_result"
    }
   ],
   "source": [
    "[(inv_map_states[st], inv_map_actions[ac]) for st,ac in enumerate(sb_pol_pi)]"
   ]
  },
  {
   "cell_type": "code",
   "execution_count": 70,
   "metadata": {},
   "outputs": [
    {
     "name": "stdout",
     "output_type": "stream",
     "text": [
      "Total iterations:16 Duration:0.0004951953887939453\n"
     ]
    }
   ],
   "source": [
    "theta=1e-3\n",
    "gamma=0.9\n",
    "sb_val_pi, sb_val_V, val_deltas, mainLoopCounter, duration = sbvaliter(env,gamma,theta)"
   ]
  },
  {
   "cell_type": "code",
   "execution_count": 71,
   "metadata": {},
   "outputs": [
    {
     "data": {
      "text/plain": [
       "[('leisure', 'quit'),\n",
       " ('class1', 'study'),\n",
       " ('class2', 'study'),\n",
       " ('class3', 'pub'),\n",
       " ('end', 'facebook')]"
      ]
     },
     "execution_count": 71,
     "metadata": {},
     "output_type": "execute_result"
    }
   ],
   "source": [
    "[(inv_map_states[st], inv_map_actions[ac]) for st,ac in enumerate(sb_val_pi)]"
   ]
  },
  {
   "cell_type": "code",
   "execution_count": 72,
   "metadata": {},
   "outputs": [
    {
     "data": {
      "text/plain": [
       "array([16.60722386, 14.33695499,  9.55260388, 10.11700344,  0.        ])"
      ]
     },
     "execution_count": 72,
     "metadata": {},
     "output_type": "execute_result"
    }
   ],
   "source": [
    "sb_val_V"
   ]
  },
  {
   "cell_type": "code",
   "execution_count": 73,
   "metadata": {},
   "outputs": [
    {
     "data": {
      "text/plain": [
       "array([16.60216024, 14.33440457,  9.55193301, 10.11626107,  0.        ])"
      ]
     },
     "execution_count": 73,
     "metadata": {},
     "output_type": "execute_result"
    }
   ],
   "source": [
    "sb_pol_V"
   ]
  },
  {
   "cell_type": "code",
   "execution_count": 74,
   "metadata": {},
   "outputs": [
    {
     "data": {
      "text/plain": [
       "({'leisure': 0, 'class1': 1, 'class2': 2, 'class3': 3, 'end': 4},\n",
       " {'facebook': 0, 'quit': 1, 'study': 2, 'sleep': 3, 'pub': 4})"
      ]
     },
     "execution_count": 74,
     "metadata": {},
     "output_type": "execute_result"
    }
   ],
   "source": [
    "env.states, env.actions"
   ]
  },
  {
   "cell_type": "code",
   "execution_count": 86,
   "metadata": {},
   "outputs": [
    {
     "data": {
      "text/plain": [
       "defaultdict(<function gymEnvs.simple.Simple.__init__.<locals>.<lambda>()>,\n",
       "            {0: defaultdict(dict,\n",
       "                         {0: [(0.9, 0, -1, False), (0.1, 1, 4, False)],\n",
       "                          1: [(0.1, 0, -1, False), (0.9, 1, 4, False)]}),\n",
       "             1: defaultdict(dict,\n",
       "                         {0: [(0.6, 0, -1, False), (0.4, 2, 6, False)],\n",
       "                          2: [(0.4, 0, -1, False), (0.6, 2, 6, False)]}),\n",
       "             2: defaultdict(dict,\n",
       "                         {2: [(0.5, 3, 10, False), (0.5, 4, 0, True)],\n",
       "                          3: [(0.5, 3, 10, False), (0.5, 4, 0, True)]}),\n",
       "             3: defaultdict(dict,\n",
       "                         {2: [(0.08, 1, 4, False),\n",
       "                           (0.16, 2, 6, False),\n",
       "                           (0.16, 3, 10, False),\n",
       "                           (0.6, 4, 0, True)],\n",
       "                          4: [(0.12, 1, 4, False),\n",
       "                           (0.24, 2, 6, False),\n",
       "                           (0.24, 3, 10, False),\n",
       "                           (0.4, 4, 0, True)]})})"
      ]
     },
     "execution_count": 86,
     "metadata": {},
     "output_type": "execute_result"
    }
   ],
   "source": [
    "env.P"
   ]
  },
  {
   "cell_type": "code",
   "execution_count": 93,
   "metadata": {},
   "outputs": [
    {
     "data": {
      "text/plain": [
       "gym.spaces.discrete.Discrete"
      ]
     },
     "execution_count": 93,
     "metadata": {},
     "output_type": "execute_result"
    }
   ],
   "source": [
    "random.choice(list(env.P[0].keys()))"
   ]
  },
  {
   "cell_type": "code",
   "execution_count": null,
   "metadata": {},
   "outputs": [],
   "source": []
  }
 ],
 "metadata": {
  "kernelspec": {
   "display_name": "Python 3",
   "language": "python",
   "name": "python3"
  },
  "language_info": {
   "codemirror_mode": {
    "name": "ipython",
    "version": 3
   },
   "file_extension": ".py",
   "mimetype": "text/x-python",
   "name": "python",
   "nbconvert_exporter": "python",
   "pygments_lexer": "ipython3",
   "version": "3.7.4"
  }
 },
 "nbformat": 4,
 "nbformat_minor": 2
}
