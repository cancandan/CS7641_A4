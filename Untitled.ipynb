{
 "cells": [
  {
   "cell_type": "code",
   "execution_count": 1,
   "metadata": {},
   "outputs": [],
   "source": [
    "import sys\n",
    "if '.' not in sys.path:\n",
    "    sys.path.append('.')\n",
    "\n",
    "from time import sleep\n",
    "import numpy as np\n",
    "import gym\n",
    "\n",
    "import gymEnvs\n",
    "from util import *\n",
    "%config IPCompleter.greedy=True\n",
    "%load_ext autoreload\n",
    "%autoreload 2"
   ]
  },
  {
   "cell_type": "code",
   "execution_count": 141,
   "metadata": {},
   "outputs": [],
   "source": [
    "P = np.array([[[0.4, 0.6], [0.8, 0.2]], [[0.3, 0.7], [0.1, 0.9]]])\n",
    "# R as S,A\n",
    "R = np.array([[5, 10], [-1, 2]])\n",
    "# R as A,S,S\n",
    "# R=np.array([[[5,-1],[5,-1]],[[10,2],[10,2]]])\n",
    "    \n",
    "sdp = mdptoolbox.mdp.ValueIteration(P, R, 0.9,epsilon=1e-20,max_iter=1000)\n",
    "sdp.run()\n",
    "\n",
    "v = np.array((40.048625392716822,  33.65371175967546))\n",
    "p = (1, 0)\n",
    "itr = 26\n",
    "SMALLNUM=10e-12\n",
    "# assert (sdp.max_iter == 28)\n",
    "# assert (np.absolute(np.array(sdp.V) - v) < SMALLNUM).all()\n",
    "# assert (sdp.policy == p)\n",
    "# assert (sdp.iter == itr)"
   ]
  },
  {
   "cell_type": "code",
   "execution_count": 142,
   "metadata": {},
   "outputs": [
    {
     "data": {
      "text/plain": [
       "((51.64285805867901, 44.05665116212729), 109)"
      ]
     },
     "execution_count": 142,
     "metadata": {},
     "output_type": "execute_result"
    }
   ],
   "source": [
    "sdp.V, sdp.max_iter"
   ]
  },
  {
   "cell_type": "code",
   "execution_count": 136,
   "metadata": {},
   "outputs": [],
   "source": [
    "class MDP(object):\n",
    "    def __init__(self):\n",
    "        # P is A,S,S\n",
    "        # R is S,A\n",
    "        self.P = np.array([[[0.4, 0.6], [0.8, 0.2]], [[0.3, 0.7], [0.1, 0.9]]])\n",
    "        self.R = np.array([[5, 10], [-1, 2]])\n",
    "    def allPossibleStates(self):\n",
    "        return [0,1]\n",
    "    def availableActions(self,s):\n",
    "        return [0,1]\n",
    "    def transitions(self, s, a):\n",
    "        return [(self.P[a][s][0],0,self.R[s][a],False),(self.P[a][s][1],1,self.R[s][a],False)]\n",
    "\n",
    "\n",
    "\n",
    "def sbvaliter(gamma, theta):\n",
    "\n",
    "    mdp = MDP()\n",
    "    V = {st:0 for st in mdp.allPossibleStates()}\n",
    "    mainLoopCounter = 0\n",
    "    deltas=[]\n",
    "    begin = time.time()\n",
    "    while True:\n",
    "        delta = 0\n",
    "        for s in V:\n",
    "            v = V[s]\n",
    "            themax = float('-inf')\n",
    "            for ac in mdp.availableActions(s):\n",
    "                thesum = 0\n",
    "                for ns in mdp.transitions(s, ac):\n",
    "                    thesum = thesum + ns[0] * (ns[2] + gamma * V[ns[1]])\n",
    "                if thesum > themax:\n",
    "                    themax = thesum\n",
    "            V[s] = themax\n",
    "            delta = max(delta, np.abs(v - V[s]))\n",
    "        mainLoopCounter += 1\n",
    "        deltas.append(delta)\n",
    "        if delta < theta:\n",
    "            break\n",
    "    pi = {st:0 for st in mdp.allPossibleStates()}\n",
    "    for s in pi:\n",
    "        themax = float('-inf')\n",
    "        action_vals = {}\n",
    "        for ac in mdp.availableActions(s):\n",
    "            thesum = 0\n",
    "            for ns in mdp.transitions(s, ac):\n",
    "                thesum = thesum + ns[0] * (ns[2] + gamma * V[ns[1]])\n",
    "            action_vals[ac] = thesum\n",
    "        sorted_action_vals = sorted(action_vals.items(), key=lambda y: (y[1], -y[0]))\n",
    "        if sorted_action_vals:\n",
    "            pi[s] = sorted_action_vals[-1][0]\n",
    "    duration = time.time() - begin\n",
    "    print(\"Total iterations:{} Duration:{}\".format(mainLoopCounter, duration))\n",
    "    print (pi.values())\n",
    "    return pi, V, deltas, mainLoopCounter, duration"
   ]
  },
  {
   "cell_type": "code",
   "execution_count": 137,
   "metadata": {},
   "outputs": [
    {
     "name": "stdout",
     "output_type": "stream",
     "text": [
      "Total iterations:209 Duration:0.007031440734863281\n",
      "dict_values([1, 0])\n"
     ]
    }
   ],
   "source": [
    "pi, V, deltas, mainLoopCounter, duration = sbvaliter(0.9,1e-20)"
   ]
  },
  {
   "cell_type": "code",
   "execution_count": 138,
   "metadata": {},
   "outputs": [
    {
     "data": {
      "text/plain": [
       "{0: 52.2068965517241, 1: 44.620689655172384}"
      ]
     },
     "execution_count": 138,
     "metadata": {},
     "output_type": "execute_result"
    }
   ],
   "source": [
    "V"
   ]
  },
  {
   "cell_type": "code",
   "execution_count": 65,
   "metadata": {},
   "outputs": [],
   "source": [
    "P=np.array([[[0.5, 0.5], [0.8, 0.2]], [[0, 1], [0.1, 0.9]]])\n",
    "R=np.array([[5, 10], [-1, 2]])\n",
    "def get(a,s):\n",
    "    [print (\"{} to {} with a={} p={} r={}\".format(s,a,sp,P[a,s,sp], R[])) for sp in [0,1]]"
   ]
  },
  {
   "cell_type": "code",
   "execution_count": 66,
   "metadata": {},
   "outputs": [
    {
     "name": "stdout",
     "output_type": "stream",
     "text": [
      "0 to 0 with a=0 p=0.5\n",
      "0 to 0 with a=1 p=0.5\n"
     ]
    }
   ],
   "source": [
    "get(0,0)"
   ]
  },
  {
   "cell_type": "code",
   "execution_count": 54,
   "metadata": {},
   "outputs": [],
   "source": [
    "x=MDP()"
   ]
  },
  {
   "cell_type": "code",
   "execution_count": 57,
   "metadata": {},
   "outputs": [
    {
     "data": {
      "text/plain": [
       "[(0.5, 0, 5, False), (0.5, 1, -1, False)]"
      ]
     },
     "execution_count": 57,
     "metadata": {},
     "output_type": "execute_result"
    }
   ],
   "source": [
    "x.transitions(0,0)"
   ]
  },
  {
   "cell_type": "code",
   "execution_count": null,
   "metadata": {},
   "outputs": [],
   "source": []
  }
 ],
 "metadata": {
  "kernelspec": {
   "display_name": "Python 3",
   "language": "python",
   "name": "python3"
  },
  "language_info": {
   "codemirror_mode": {
    "name": "ipython",
    "version": 3
   },
   "file_extension": ".py",
   "mimetype": "text/x-python",
   "name": "python",
   "nbconvert_exporter": "python",
   "pygments_lexer": "ipython3",
   "version": "3.7.4"
  }
 },
 "nbformat": 4,
 "nbformat_minor": 2
}
